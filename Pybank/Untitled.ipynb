{
 "cells": [
  {
   "cell_type": "code",
   "execution_count": 50,
   "metadata": {},
   "outputs": [],
   "source": [
    "#dependicies\n",
    "import os\n",
    "import csv "
   ]
  },
  {
   "cell_type": "code",
   "execution_count": 51,
   "metadata": {},
   "outputs": [],
   "source": [
    "#loadfiles\n",
    "dirname = os.path.dirname\n",
    "\n",
    "BankCSV = os.path.join(\"budget_data.csv\")\n"
   ]
  },
  {
   "cell_type": "code",
   "execution_count": 52,
   "metadata": {},
   "outputs": [],
   "source": [
    "# Lists to store data/track?\n",
    "total_months = 0\n",
    "total_revenue = 0\n",
    "prev_revenue = 0 \n",
    "revenue_change = 0\n",
    "greatest_increase = [\"\",0]\n",
    "greatest_decrease = [\"\",999999999999999]\n",
    "revenue_changes = []"
   ]
  },
  {
   "cell_type": "code",
   "execution_count": 62,
   "metadata": {},
   "outputs": [],
   "source": [
    "# read files\n",
    "with open(BankCSV, newline = \"\") as csvfile:\n",
    "    csvreader = csv.reader(csvfile, delimiter=\",\")\n",
    "    csvreader = list(csvreader)\n",
    "    #loop thorugh all rows of data\n",
    "    for row in range(1,len(csvreader)):\n",
    "        # Add title\n",
    "        total_months = total_months + 1 \n",
    "\n",
    "        # Add price\n",
    "        total_revenue = total_revenue + int(csvreader[row][1])\n",
    "        \n",
    "        \n",
    "                # Keep track of changes\n",
    "        revenue_change = int(csvreader[row][1]) - prev_revenue\n",
    "        # print(revenue_change)\n",
    "\n",
    "        # Reset the value of prev_revenue to the row I completed my analysis\n",
    "        prev_revenue = int(csvreader[row][1])\n",
    "        # print(prev_revenue)\n",
    "\n",
    "        # Determine the greatest increase\n",
    "        if (revenue_change > greatest_increase[1]):\n",
    "            greatest_increase[1] = revenue_change\n",
    "            greatest_increase[0] = str(csvreader[row][0])\n",
    "        if (revenue_change < greatest_decrease[1]):\n",
    "            greatest_decrease[1] = revenue_change\n",
    "            greatest_decrease[0] = str(csvreader[row][0])\n",
    "\n",
    "        # Add to the revenue_changes list\n",
    "        revenue_changes.append(int(csvreader[row][1]))\n",
    "\n",
    "    # Set the Revenue average\n",
    "    revenue_avg = sum(revenue_changes) / len(revenue_changes)\n",
    "\n",
    "            "
   ]
  },
  {
   "cell_type": "code",
   "execution_count": 63,
   "metadata": {},
   "outputs": [
    {
     "name": "stdout",
     "output_type": "stream",
     "text": [
      "Financial Analysis\n",
      "Total Months50\n",
      "Total Revenue:$25628650\n",
      "Average Change:$479183.45\n",
      "Greatest Increase: Feb-16 ($1837235)\n"
     ]
    }
   ],
   "source": [
    "    print(\"Financial Analysis\")\n",
    "    print(\"Total Months\" + str(total_months))\n",
    "    print(\"Total Revenue:\" + \"$\" + str(total_revenue))\n",
    "    print(\"Average Change:\" + \"$\" + str(round(sum(revenue_changes) / len(revenue_changes),2)))\n",
    "    print(\"Greatest Increase: \" + str(greatest_increase[0]) + \" ($\" +  str(greatest_increase[1]) + \")\") "
   ]
  },
  {
   "cell_type": "code",
   "execution_count": null,
   "metadata": {},
   "outputs": [],
   "source": []
  }
 ],
 "metadata": {
  "kernelspec": {
   "display_name": "Python 3",
   "language": "python",
   "name": "python3"
  },
  "language_info": {
   "codemirror_mode": {
    "name": "ipython",
    "version": 3
   },
   "file_extension": ".py",
   "mimetype": "text/x-python",
   "name": "python",
   "nbconvert_exporter": "python",
   "pygments_lexer": "ipython3",
   "version": "3.6.5"
  }
 },
 "nbformat": 4,
 "nbformat_minor": 2
}
