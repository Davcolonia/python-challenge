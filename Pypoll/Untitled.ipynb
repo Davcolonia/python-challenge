{
 "cells": [
  {
   "cell_type": "code",
   "execution_count": 2,
   "metadata": {},
   "outputs": [],
   "source": [
    "#dependicies\n",
    "import os\n",
    "import csv "
   ]
  },
  {
   "cell_type": "code",
   "execution_count": 3,
   "metadata": {},
   "outputs": [],
   "source": [
    "#loadfiles\n",
    "dirname = os.path.dirname\n",
    "\n",
    "ElectionCSV = os.path.join(\"election_data.csv\")"
   ]
  },
  {
   "cell_type": "code",
   "execution_count": 16,
   "metadata": {},
   "outputs": [],
   "source": [
    "# Lists to store data/track?\n",
    "#The total number of votes cast\n",
    "#A complete list of candidates who received votes\n",
    "#The percentage of votes each candidate won\n",
    "#The total number of votes each candidate won\n",
    "#The winner of the election based on popular vote.\n",
    "\n",
    "\n",
    "total_votes = 0\n",
    "vote_stats = []\n",
    "candidates = []\n",
    "\n",
    "# read files\n",
    "with open(ElectionCSV, newline = \"\") as csvfile:\n",
    "    csvreader = csv.reader(csvfile, delimiter=\",\")\n",
    "    \n",
    "    #loop thorugh all rows of data\n",
    "    line = next(csvreader, None)\n",
    "    for line in csvreader:\n",
    "        # Add title\n",
    "        total_votes = total_votes + 1 \n",
    "\n",
    "        # Add\n",
    "        candidate = line[2] \n",
    "        \n",
    "        if candidate in candidates:\n",
    "            \n",
    "            candidate_index = candidates.index(candidate)\n",
    "            vote_stats[candidate_index] = vote_stats[candidate_index] + 1\n",
    "        else:\n",
    "            candidates.append(candidate)\n",
    "            vote_stats.append(1)\n",
    "percentages = []\n",
    "max_votes = vote_stats[0]\n",
    "max_index = 0 \n",
    "for count in range(len(candidates)):\n",
    "    vote_percentage = vote_stats[count]/total_votes*100\n",
    "    percentages.append(vote_percentage)\n",
    "    if vote_stats[count] > max_votes:\n",
    "        max_votes = vote_stats[count]\n",
    "        print(max_votes)\n",
    "        max_index = count\n",
    "winner = candidates[max_index]\n",
    "\n",
    "  "
   ]
  },
  {
   "cell_type": "code",
   "execution_count": 19,
   "metadata": {
    "scrolled": true
   },
   "outputs": [
    {
     "name": "stdout",
     "output_type": "stream",
     "text": [
      "Election Results\n",
      "Total Votes: + 3521001\n",
      "Khan : 63.00001050837531% (2218231\n",
      "Correy : 19.999994319797125% (704200\n",
      "Li : 13.999996023857989% (492940\n",
      "O'Tooley : 2.999999147969569% (105630\n",
      "Winner:Khan\n",
      "-------------------------\n"
     ]
    }
   ],
   "source": [
    "          \n",
    "   \n",
    "        \n",
    "print(\"Election Results\")\n",
    "print(f\"Total Votes: + {total_votes}\")\n",
    "for count in range (len(candidates)):\n",
    "      print(f\"{candidates[count]} : {percentages[count]}% ({vote_stats[count]}\")\n",
    "print(f\"Winner:{winner}\")\n",
    "print(\"-------------------------\")\n",
    "        "
   ]
  },
  {
   "cell_type": "code",
   "execution_count": null,
   "metadata": {},
   "outputs": [],
   "source": []
  },
  {
   "cell_type": "code",
   "execution_count": null,
   "metadata": {},
   "outputs": [],
   "source": []
  }
 ],
 "metadata": {
  "kernelspec": {
   "display_name": "Python 3",
   "language": "python",
   "name": "python3"
  },
  "language_info": {
   "codemirror_mode": {
    "name": "ipython",
    "version": 3
   },
   "file_extension": ".py",
   "mimetype": "text/x-python",
   "name": "python",
   "nbconvert_exporter": "python",
   "pygments_lexer": "ipython3",
   "version": "3.6.5"
  }
 },
 "nbformat": 4,
 "nbformat_minor": 2
}
